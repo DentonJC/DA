{
 "cells": [
  {
   "cell_type": "markdown",
   "metadata": {
    "collapsed": true
   },
   "source": [
    "Zad 1.\n",
    "Wygeneruj dane z rozkładu normalnego o średniej m = [0, 0] i kowariancji cov = [[1, 0], [0, 1]].\n",
    "Narysuj na jednym wykresie dane oraz gęstość rozkładu normalnego (kontury) o parametrach m = [1, 0] oraz cov = [[1, 0], [0, 2]]. "
   ]
  },
  {
   "cell_type": "code",
   "execution_count": 1,
   "metadata": {},
   "outputs": [
    {
     "data": {
      "image/png": "[encoded data removed]",
      "text/plain": [
       "<matplotlib.figure.Figure at 0x7fa962a01f60>"
      ]
     },
     "metadata": {},
     "output_type": "display_data"
    }
   ],
   "source": [
    "import matplotlib.pyplot as plt\n",
    "import numpy as np\n",
    "from scipy import stats\n",
    "from scipy.stats import multivariate_normal\n",
    "mean1 = [0, 0]\n",
    "cov1 = [[1, 0], [0, 1]] \n",
    "rv1 = multivariate_normal(mean1, cov1)\n",
    "\n",
    "mean2 = [1, 0]\n",
    "cov2 = [[1, 0], [0, 2]] \n",
    "rv2 = multivariate_normal(mean2, cov2)\n",
    "\n",
    "data=rv1.rvs(100)\n",
    "fig, ax = plt.subplots(nrows=1, ncols=1, figsize=(5, 5))\n",
    "\n",
    "ax.plot(data[:,0],data[:,1],\"o\")\n",
    "\n",
    "x, y = np.mgrid[-5:5:.1, -5:5:.1]\n",
    "pos = np.empty(x.shape + (2,))\n",
    "pos[:, :, 0] = x; pos[:, :, 1] = y\n",
    "ax.contour(x, y, rv2.pdf(pos), 6, colors = 'k')\n",
    "plt.show()"
   ]
  },
  {
   "cell_type": "markdown",
   "metadata": {},
   "source": [
    "Zad 2.\n",
    "Zminimalizuj zlogarytmowaną funkcję wiarygodności dla rodziny rozkładów Split Normal Distribution link oraz klasycznych rozkładów normalnych. Narysuj na jednym wykresie dane oraz gęstość (kontury).\n",
    "Użyj\n",
    "\n",
    "    danych z rozkładu jednostajnego na odcinku [-1,1] x [-1,1].\n",
    "    danych z rozkładu normalnego o średniej m = [0, 0] i kowariancji cov = [[1, 0], [0, 1]].\n",
    "    danych z pliku link\n"
   ]
  },
  {
   "cell_type": "code",
   "execution_count": 2,
   "metadata": {},
   "outputs": [
    {
     "ename": "NameError",
     "evalue": "name 'mean' is not defined",
     "output_type": "error",
     "traceback": [
      "\u001b[0;31m---------------------------------------------------------------------------\u001b[0m",
      "\u001b[0;31mNameError\u001b[0m                                 Traceback (most recent call last)",
      "\u001b[0;32m<ipython-input-2-b529115ca0ad>\u001b[0m in \u001b[0;36m<module>\u001b[0;34m()\u001b[0m\n\u001b[1;32m      9\u001b[0m \u001b[0mm\u001b[0m \u001b[0;34m=\u001b[0m \u001b[0;34m[\u001b[0m\u001b[0;36m0\u001b[0m\u001b[0;34m,\u001b[0m \u001b[0;36m0\u001b[0m\u001b[0;34m]\u001b[0m\u001b[0;34m\u001b[0m\u001b[0m\n\u001b[1;32m     10\u001b[0m \u001b[0mcov\u001b[0m \u001b[0;34m=\u001b[0m \u001b[0;34m[\u001b[0m\u001b[0;34m[\u001b[0m\u001b[0;36m1\u001b[0m\u001b[0;34m,\u001b[0m \u001b[0;36m0\u001b[0m\u001b[0;34m]\u001b[0m\u001b[0;34m,\u001b[0m \u001b[0;34m[\u001b[0m\u001b[0;36m0\u001b[0m\u001b[0;34m,\u001b[0m \u001b[0;36m1\u001b[0m\u001b[0;34m]\u001b[0m\u001b[0;34m]\u001b[0m\u001b[0;34m\u001b[0m\u001b[0m\n\u001b[0;32m---> 11\u001b[0;31m \u001b[0mrv\u001b[0m \u001b[0;34m=\u001b[0m \u001b[0mmultivariate_normal\u001b[0m\u001b[0;34m(\u001b[0m\u001b[0mmean\u001b[0m\u001b[0;34m,\u001b[0m \u001b[0mcov\u001b[0m\u001b[0;34m)\u001b[0m\u001b[0;34m\u001b[0m\u001b[0m\n\u001b[0m\u001b[1;32m     12\u001b[0m \u001b[0mdata2\u001b[0m \u001b[0;34m=\u001b[0m \u001b[0mrv\u001b[0m\u001b[0;34m.\u001b[0m\u001b[0mrvs\u001b[0m\u001b[0;34m(\u001b[0m\u001b[0mN\u001b[0m\u001b[0;34m)\u001b[0m\u001b[0;34m\u001b[0m\u001b[0m\n\u001b[1;32m     13\u001b[0m \u001b[0;34m\u001b[0m\u001b[0m\n",
      "\u001b[0;31mNameError\u001b[0m: name 'mean' is not defined"
     ]
    }
   ],
   "source": [
    "from scipy.optimize import fmin\n",
    "import math\n",
    "import random\n",
    "import matplotlib.mlab as mlab\n",
    "\n",
    "N = 100000\n",
    "data1 = np.random.uniform(-1, 1, (N, 2))\n",
    "\n",
    "m = [0, 0]\n",
    "cov = [[1, 0], [0, 1]] \n",
    "rv = multivariate_normal(mean, cov)\n",
    "data2 = rv.rvs(N)\n",
    "\n",
    "data3 = np.loadtxt(\"data.txt\", delimiter = ' ')\n",
    "\n",
    "\n",
    "def GSN(x, m, W, s, t):\n",
    "    det = numpy.linalg.det(W)\n",
    "    N = len()\n",
    "    summ = 0\n",
    "    for i in range(N):\n",
    "        summ += SN(x, m, s, t)\n",
    "    return summ\n",
    "\n",
    "def SN(x, m, s, t):\n",
    "    c=math.sqrt(2./math.pi)*(1./s)*(1./(1+t))\n",
    "    if x<=m:\n",
    "        return (c*math.exp(-1./(2* s**2) * (x-m)**2))\n",
    "    else:\n",
    "        return (c*math.exp(-1./(t**2 * s**2) * (x-m)**2))\n",
    "    \n",
    "\n",
    "max_func = 0\n",
    "min_func = 0\n",
    "maximal_x, maximal_y = None, None\n",
    "minimal_x, minimal_y = None, None\n",
    "\n",
    "for i in range(100):\n",
    "    randx = random.random()*2 - 1\n",
    "    randy = random.random()*2 - 1\n",
    "    result = loglike(X, randx, randy)\n",
    "    max_func = max(max_func, result)\n",
    "    if max_func == result:\n",
    "        maximal_x, maximal_y = randx, randy\n",
    "    min_func = min(min_func, result)\n",
    "    if min_func == result:\n",
    "        minimal_x, minimal_y = randx, randy\n",
    "\n",
    "num_bins = 50\n",
    "\n",
    "gauss = np.random.normal(minimal_x, minimal_y, N)\n",
    "for i in range(N):\n",
    "    gauss[i] = np.log(gauss[i])\n",
    "        \n",
    "n, bins, patches = plt.hist(X, num_bins, normed=1, facecolor='green', alpha=0.5)\n",
    "y = mlab.normpdf(bins, minimal_x, minimal_y)\n",
    "plt.plot(bins, y, 'r--')\n",
    "plt.show() \n",
    "\n",
    "\n",
    "\n",
    "max_func = 0\n",
    "min_func = 0\n",
    "maximal_x, maximal_y = None, None\n",
    "minimal_x, minimal_y = None, None\n",
    "\n",
    "for i in range(100):\n",
    "    randx = random.random()*2 - 1\n",
    "    randy = random.random()*2 - 1\n",
    "    result = loglike(X, randx, randy)\n",
    "    max_func = max(max_func, result)\n",
    "    if max_func == result:\n",
    "        maximal_x, maximal_y = randx, randy\n",
    "    min_func = min(min_func, result)\n",
    "    if min_func == result:\n",
    "        minimal_x, minimal_y = randx, randy\n",
    "\n",
    "num_bins = 50\n",
    "\n",
    "gauss = np.random.normal(minimal_x, minimal_y, N)\n",
    "for i in range(N):\n",
    "    gauss[i] = np.log(gauss[i])\n",
    "        \n",
    "n, bins, patches = plt.hist(X, num_bins, normed=1, facecolor='green', alpha=0.5)\n",
    "y = mlab.normpdf(bins, minimal_x, minimal_y)\n",
    "plt.plot(bins, y, 'r--')\n",
    "plt.show() \n",
    "\n",
    "data = np.loadtxt(\"data2.txt\", delimiter = ' ')\n",
    "\n",
    "max_func = 0\n",
    "min_func = 0\n",
    "maximal_x, maximal_y = None, None\n",
    "minimal_x, minimal_y = None, None\n",
    "\n",
    "for i in range(100):\n",
    "    randx = random.random()*2 - 1\n",
    "    randy = random.random()*2 - 1\n",
    "    result = loglike(X, randx, randy)\n",
    "    max_func = max(max_func, result)\n",
    "    if max_func == result:\n",
    "        maximal_x, maximal_y = randx, randy\n",
    "    min_func = min(min_func, result)\n",
    "    if min_func == result:\n",
    "        minimal_x, minimal_y = randx, randy\n",
    "\n",
    "num_bins = 50\n",
    "\n",
    "gauss = np.random.normal(minimal_x, minimal_y, N)\n",
    "for i in range(N):\n",
    "    gauss[i] = np.log(gauss[i])\n",
    "        \n",
    "n, bins, patches = plt.hist(X, num_bins, normed=1, facecolor='green', alpha=0.5)\n",
    "y = mlab.normpdf(bins, mu, sigma)\n",
    "plt.plot(bins, y, 'r--')\n",
    "plt.show() "
   ]
  },
  {
   "cell_type": "markdown",
   "metadata": {},
   "source": [
    "Zad 4.\n",
    "Napisz algorytm k-mean w wersji Lloyd (klasyczny). Nie można używać żadnych funkcji z k-means w pythonie. "
   ]
  },
  {
   "cell_type": "code",
   "execution_count": null,
   "metadata": {},
   "outputs": [],
   "source": [
    "import numpy as np\n",
    "from scipy.spatial import distance\n",
    "import matplotlib.pyplot as plt\n",
    "import matplotlib.patches as mpatches\n",
    "from timeit import itertools\n",
    "\n",
    "\n",
    "def KMeans (data, K, dim): \n",
    "    X = data[:,[range(0,dim)]]  \n",
    "    C = data[:K,[range(0,dim)]] \n",
    "    C_last = np.zeros((K, dim))\n",
    "    \n",
    "    while (C != C_last).all():\n",
    "        C_last = np.copy(C)  \n",
    "        D = np.zeros((K,X.shape[0])) \n",
    "        Dmin = np.zeros((K,X.shape[0]))\n",
    "        \n",
    "        for i in range(0,K):            \n",
    "            for j in range(0,X.shape[0]):\n",
    "                D[i,j] = distance.euclidean(C[i], X[j])          \n",
    "        for k in range(0,D.shape[1]):\n",
    "            Dmin[np.argmin(D[:,k]),k]=1\n",
    "        \n",
    "        for i in range(0,K):\n",
    "            sum = np.zeros((1, dim))\n",
    "            inc = 0\n",
    "            for j in range(0,Dmin.shape[1]):\n",
    "                if(Dmin[i,j]==1):\n",
    "                    sum += X[j]\n",
    "                    inc+=1\n",
    "            C[i] = sum/inc\n",
    "    return C ,Dmin   \n",
    "\n",
    "    \n",
    "data = np.loadtxt(\"iris.data\",delimiter = ',',usecols=range(0,4))\n",
    "labels = np.loadtxt(\"iris.data\",dtype = np.str, delimiter = ',',usecols=(4,))\n",
    "\n",
    "K=3\n",
    "dim = 2\n",
    "C , dist = KMeans(data,K,dim)\n",
    "\n",
    "X = data[:,[range(0,dim)]] \n",
    "colors = itertools.cycle([\"r\", \"b\", \"g\"])\n",
    "for row in range(0,dist.shape[0]):\n",
    "    pointsX = []\n",
    "    pointsY = []\n",
    "    for col in range(0,dist.shape[1]):\n",
    "        if(dist[row,col]==1):\n",
    "            pointsX.append(data[col,0])\n",
    "            pointsY.append(data[col,1])\n",
    "    plt.scatter(pointsX, pointsY,color=next(colors))\n",
    "red_patch = mpatches.Patch(color='red', label='Iris-virginica')\n",
    "blue_patch = mpatches.Patch(color='blue', label='Iris-versicolor')\n",
    "green_patch = mpatches.Patch(color='green', label='Iris-setosa')\n",
    "plt.legend(handles=[red_patch,blue_patch,green_patch]) \n",
    "plt.show()"
   ]
  },
  {
   "cell_type": "code",
   "execution_count": null,
   "metadata": {
    "collapsed": true
   },
   "outputs": [],
   "source": []
  },
  {
   "cell_type": "code",
   "execution_count": null,
   "metadata": {
    "collapsed": true
   },
   "outputs": [],
   "source": []
  },
  {
   "cell_type": "code",
   "execution_count": null,
   "metadata": {
    "collapsed": true
   },
   "outputs": [],
   "source": []
  }
 ],
 "metadata": {
  "kernelspec": {
   "display_name": "Python 3",
   "language": "python",
   "name": "python3"
  },
  "language_info": {
   "codemirror_mode": {
    "name": "ipython",
    "version": 3
   },
   "file_extension": ".py",
   "mimetype": "text/x-python",
   "name": "python",
   "nbconvert_exporter": "python",
   "pygments_lexer": "ipython3",
   "version": "3.6.1"
  }
 },
 "nbformat": 4,
 "nbformat_minor": 2
}
