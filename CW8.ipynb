{
 "cells": [
  {
   "cell_type": "code",
   "execution_count": 81,
   "metadata": {},
   "outputs": [
    {
     "name": "stderr",
     "output_type": "stream",
     "text": [
      "/usr/lib/python3.6/site-packages/ipykernel/__main__.py:13: RuntimeWarning: divide by zero encountered in log\n"
     ]
    },
    {
     "data": {
      "image/png": "[encoded data removed]",
      "text/plain": [
       "<matplotlib.figure.Figure at 0x7fd8f8aac358>"
      ]
     },
     "metadata": {},
     "output_type": "display_data"
    },
    {
     "data": {
      "image/png": "[encoded data removed]",
      "text/plain": [
       "<matplotlib.figure.Figure at 0x7fd8f70b81d0>"
      ]
     },
     "metadata": {},
     "output_type": "display_data"
    }
   ],
   "source": [
    "import numpy as np\n",
    "import matplotlib.pyplot as plt\n",
    "from random import randint\n",
    "from scipy.stats import multivariate_normal\n",
    "\n",
    "\n",
    "def update(cluster,p,centroid,mc,k,Y):\n",
    "    for x in Y:\n",
    "        min = 10000\n",
    "        n = -1\n",
    "        for i in range(0,k):\n",
    "            var = multivariate_normal(mean=centroid[i], cov=mc[i])\n",
    "            val = -np.log(p[i])-np.log(var.pdf(x))\n",
    "            if(val<min):\n",
    "                min = val\n",
    "                n = i\n",
    "        cluster[n].append(x)\n",
    "\n",
    "def lloyd(k, eps, Y):\n",
    "    centroid = []\n",
    "    p = []\n",
    "    mc = []\n",
    "    pom = np.array(Y).T\n",
    "    #init\n",
    "    for i in range(k):\n",
    "        centroid.append(Y[randint(0,len(Y))])\n",
    "        p.append(1/k)\n",
    "        mc.append(np.cov(pom))\n",
    "    \n",
    "    flag = False\n",
    "    while True: \n",
    "        h2 = 0\n",
    "        #clear\n",
    "        cluster = []  \n",
    "        for _ in range(k):\n",
    "            cluster.append([])\n",
    "        update(cluster, p, centroid, mc, k,Y)\n",
    "        \n",
    "        #remove\n",
    "        i = 0\n",
    "        while(i==k):\n",
    "            if(len(cluster[i]) < 0.01*len(Y)):\n",
    "                r = cluster[i]\n",
    "                del cluster[i], p[i], centroid[i], mc[i]\n",
    "                update(cluster, p, centroid, mc, k, r)\n",
    "                i = 0\n",
    "                k-=1\n",
    "            else:\n",
    "                i+=1\n",
    "                \n",
    "        #update    \n",
    "        for i in range(k):\n",
    "            centroid[i] = np.sum(cluster[i],axis=0)/len(cluster[i])\n",
    "            pom = np.array(cluster[i]).T\n",
    "            mc[i] = np.cov(pom)\n",
    "            p[i] = len(cluster[i])/len(Y)\n",
    "            h2=h2+p[i]*(-np.log(p[i])+1/2*np.log(np.linalg.det(mc[i]))+len(Y)/2*np.log(2*np.pi*np.e)) \n",
    "        \n",
    "        if flag and h2>h1-eps:\n",
    "            break\n",
    "    \n",
    "        flag = True\n",
    "        h1 = h2\n",
    "    return cluster\n",
    "\n",
    "\n",
    "def show(k, eps, addr):\n",
    "    data = np.loadtxt(addr, delimiter = ' ')\n",
    "    result = lloyd(3, 0.0001, data)\n",
    "    colormap = np.array(['red', 'green', 'blue'])\n",
    "    for i, arr in enumerate (result):\n",
    "        for x in arr:\n",
    "            plt.scatter(x[0],x[1],c=colormap[i])   \n",
    "    plt.show()\n",
    "\n",
    "show(3, 0.0001, \"data8(1).txt\")\n",
    "show(3, 0.0001, \"data8(2).txt\")"
   ]
  },
  {
   "cell_type": "code",
   "execution_count": null,
   "metadata": {
    "collapsed": true
   },
   "outputs": [],
   "source": []
  }
 ],
 "metadata": {
  "kernelspec": {
   "display_name": "Python 3",
   "language": "python",
   "name": "python3"
  },
  "language_info": {
   "codemirror_mode": {
    "name": "ipython",
    "version": 3
   },
   "file_extension": ".py",
   "mimetype": "text/x-python",
   "name": "python",
   "nbconvert_exporter": "python",
   "pygments_lexer": "ipython3",
   "version": "3.6.1"
  }
 },
 "nbformat": 4,
 "nbformat_minor": 1
}
